{
 "cells": [
  {
   "cell_type": "markdown",
   "metadata": {},
   "source": [
    "# OpenAI API\n",
    "\n",
    "Example to use OpenAI API in jupyter notebook to create promts."
   ]
  },
  {
   "cell_type": "code",
   "execution_count": 1,
   "metadata": {},
   "outputs": [],
   "source": [
    "import openai"
   ]
  },
  {
   "cell_type": "code",
   "execution_count": 2,
   "metadata": {},
   "outputs": [],
   "source": [
    "from openai import OpenAI\n",
    "client = OpenAI()"
   ]
  },
  {
   "cell_type": "code",
   "execution_count": 3,
   "metadata": {},
   "outputs": [],
   "source": [
    "response = client.chat.completions.create(\n",
    "    model='gpt-4o',\n",
    "    messages=[{'role':'user', 'content':'what is langchain and give an example'}])"
   ]
  },
  {
   "cell_type": "code",
   "execution_count": 6,
   "metadata": {},
   "outputs": [
    {
     "data": {
      "text/plain": [
       "'LangChain is a framework designed to facilitate the development of applications that utilize large language models (LLMs). By providing a comprehensive structure, LangChain enables developers to create more sophisticated, context-aware, and interactive applications. It supports functionalities such as prompt management, chaining of multiple language model calls, integration with external data sources, and development of custom agents.\\n\\n### Example\\n\\nLet\\'s say you want to build a simple question-answering application that consults Wikipedia for answers. Here\\'s how you might do it using LangChain:\\n\\n1. **Setup and Install Necessary Packages:**\\n   \\n   Make sure you have the required packages installed. You will need `langchain` and possibly other dependencies like `requests` for accessing APIs.\\n\\n   ```bash\\n   pip install langchain\\n   pip install requests\\n   ```\\n\\n2. **Code to Create a QA System:**\\n\\n   ```python\\n   import requests\\n   from langchain import LLM, Chain, Prompt\\n\\n   class WikipediaAPI:\\n       @staticmethod\\n       def search(query: str) -> str:\\n           url = \"https://en.wikipedia.org/w/api.php\"\\n           params = {\\n               \"action\": \"query\",\\n               \"format\": \"json\",\\n               \"list\": \"search\",\\n               \"srsearch\": query,\\n           }\\n           response = requests.get(url, params=params)\\n           data = response.json()\\n           if data[\"query\"][\"search\"]:\\n               title = data[\"query\"][\"search\"][0][\"title\"]\\n               return WikipediaAPI.get_summary(title)\\n           else:\\n               return \"No results found on Wikipedia.\"\\n\\n       @staticmethod\\n       def get_summary(title: str) -> str:\\n           url = \"https://en.wikipedia.org/w/api.php\"\\n           params = {\\n               \"action\": \"query\",\\n               \"format\": \"json\",\\n               \"prop\": \"extracts\",\\n               \"exintro\": True,\\n               \"titles\": title,\\n           }\\n           response = requests.get(url, params=params)\\n           pages = response.json()[\"query\"][\"pages\"]\\n           page = next(iter(pages.values()))\\n           return page[\"extract\"]\\n   \\n   class WikiChain(Chain):\\n       prompt = Prompt(\"Ask me anything: \")\\n\\n       def run(self, input_string: str):\\n           if input_string:\\n               return WikipediaAPI.search(input_string)\\n           else:\\n               return \"Please enter a valid question.\"\\n\\n   if __name__ == \"__main__\":\\n       chain = WikiChain()\\n       user_input = input(chain.prompt.text)\\n       print(chain.run(user_input))\\n   ```\\n\\n### Explanation:\\n\\n1. **WikipediaAPI:** This class handles the interaction with the Wikipedia API. It includes methods to search for a query and retrieve a summary based on the title.\\n\\n2. **WikiChain:** This is a simple chain that takes a user input and uses the `WikipediaAPI` to fetch an answer. It inherits from the `Chain` class provided by LangChain.\\n\\n3. **Prompt:** The `prompt` attribute in `WikiChain` is a simple text prompt asking the user for input.\\n\\n4. **Running the Chain:** The script creates an instance of `WikiChain`, takes user input, and prints the result obtained by querying the Wikipedia API.\\n\\nThis basic example demonstrates how LangChain can be used to create a question-answering system that interfaces with external data sources, in this case, Wikipedia.'"
      ]
     },
     "execution_count": 6,
     "metadata": {},
     "output_type": "execute_result"
    }
   ],
   "source": [
    "response.choices[0].message.content"
   ]
  }
 ],
 "metadata": {
  "kernelspec": {
   "display_name": "Python 3",
   "language": "python",
   "name": "python3"
  },
  "language_info": {
   "codemirror_mode": {
    "name": "ipython",
    "version": 3
   },
   "file_extension": ".py",
   "mimetype": "text/x-python",
   "name": "python",
   "nbconvert_exporter": "python",
   "pygments_lexer": "ipython3",
   "version": "3.10.13"
  }
 },
 "nbformat": 4,
 "nbformat_minor": 2
}
