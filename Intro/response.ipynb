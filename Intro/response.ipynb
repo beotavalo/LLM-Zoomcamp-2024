{
 "cells": [
  {
   "cell_type": "code",
   "execution_count": null,
   "metadata": {},
   "outputs": [],
   "source": []
  },
  {
   "cell_type": "markdown",
   "metadata": {},
   "source": [
    "LangChain is a framework designed to facilitate the development of applications that utilize large language models (LLMs). By providing a comprehensive structure, LangChain enables developers to create more sophisticated, context-aware, and interactive applications. It supports functionalities such as prompt management, chaining of multiple language model calls, integration with external data sources, and development of custom agents.\n",
    "\n",
    "\\n\\n### Example\\n\\nLet\\'s say you want to build a simple question-answering application that consults Wikipedia for answers. Here\\'s how you might do it using LangChain:\\n\\n1. \n",
    "\n",
    "**Setup and Install Necessary Packages:**\\n   \\n   Make sure you have the required packages installed. You will need `langchain` and possibly other dependencies like `requests` for accessing APIs.\\n\\n   ```bash\\n   pip install langchain\\n   pip install requests\\n   ```\\n\\n2. \n",
    "\n",
    "**Code to Create a QA System:**\\n\\n   ```python\\n   import requests\\n   from langchain import LLM, Chain, Prompt\\n\\n   class WikipediaAPI:\\n       @staticmethod\\n       def search(query: str) -> str:\\n           url = \"https://en.wikipedia.org/w/api.php\"\\n           params = {\\n               \"action\": \"query\",\\n               \"format\": \"json\",\\n               \"list\": \"search\",\\n               \"srsearch\": query,\\n           }\\n           response = requests.get(url, params=params)\\n           data = response.json()\\n           if data[\"query\"][\"search\"]:\\n               title = data[\"query\"][\"search\"][0][\"title\"]\\n               return WikipediaAPI.get_summary(title)\\n           else:\\n               return \"No results found on Wikipedia.\"\\n\\n       @staticmethod\\n       def get_summary(title: str) -> str:\\n           url = \"https://en.wikipedia.org/w/api.php\"\\n           params = {\\n               \"action\": \"query\",\\n               \"format\": \"json\",\\n               \"prop\": \"extracts\",\\n               \"exintro\": True,\\n               \"titles\": title,\\n           }\\n           response = requests.get(url, params=params)\\n           pages = response.json()[\"query\"][\"pages\"]\\n           page = next(iter(pages.values()))\\n           return page[\"extract\"]\\n   \\n   class WikiChain(Chain):\\n       prompt = Prompt(\"Ask me anything: \")\\n\\n       def run(self, input_string: str):\\n           if input_string:\\n               return WikipediaAPI.search(input_string)\\n           else:\\n               return \"Please enter a valid question.\"\\n\\n   if __name__ == \"__main__\":\\n       chain = WikiChain()\\n       user_input = input(chain.prompt.text)\\n       print(chain.run(user_input))\\n   ```\n",
    "\n",
    "\\n\\n### Explanation:\\n\\n1. \n",
    "\n",
    "**WikipediaAPI:** \n",
    "This class handles the interaction with the Wikipedia API. It includes methods to search for a query and retrieve a summary based on the title.\\n\\n2. \n",
    "\n",
    "**WikiChain:** \n",
    "\n",
    "This is a simple chain that takes a user input and uses the `WikipediaAPI` to fetch an answer. It inherits from the `Chain` class provided by LangChain.\\n\\n3. **Prompt:** The `prompt` attribute in `WikiChain` is a simple text prompt asking the user for input.\\n\\n4. \n",
    "\n",
    "**Running the Chain:** The script creates an instance of `WikiChain`, takes user input, and prints the result obtained by querying the Wikipedia API.\n",
    "\n",
    "\\n\\n\n",
    "This basic example demonstrates how LangChain can be used to create a question-answering system that interfaces with external data sources, in this case, Wikipedia."
   ]
  }
 ],
 "metadata": {
  "language_info": {
   "name": "python"
  }
 },
 "nbformat": 4,
 "nbformat_minor": 2
}
